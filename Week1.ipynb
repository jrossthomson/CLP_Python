{
  "nbformat": 4,
  "nbformat_minor": 0,
  "metadata": {
    "colab": {
      "name": "Week1.ipynb",
      "provenance": [],
      "collapsed_sections": [
        "iPzY7sCr1vuT",
        "ztFfTo6Au-Nr",
        "ERxcLPMo4qTl",
        "J00ZTrR-4qjd",
        "OfBes4fEvBGW",
        "4A2HD0BovBSB",
        "77vTocbmvBeV",
        "mkH6oj7vwko3",
        "MsNVopnRwk3A"
      ],
      "toc_visible": true
    },
    "kernelspec": {
      "name": "python3",
      "display_name": "Python 3"
    },
    "language_info": {
      "name": "python"
    }
  },
  "cells": [
    {
      "cell_type": "markdown",
      "metadata": {
        "id": "Y5DYnIogtV-f"
      },
      "source": [
        "# Week 1\n",
        "\n",
        "<table class=\"tfo-notebook-buttons\" align=\"left\">\n",
        "\n",
        "  <td>\n",
        "    <a target=\"_blank\" href=\"https://colab.research.google.com/github/jrossthomson/CLP_Python/blob/main/Week1.ipynb\"><img src=\"https://quantumai.google/site-assets/images/buttons/colab_logo_1x.png\" />Run in Google Colab</a>\n",
        "  </td>\n",
        "</table>"
      ]
    },
    {
      "cell_type": "markdown",
      "metadata": {
        "id": "TkZRq5l0tuM8"
      },
      "source": [
        "## Week 1 - Overview\n",
        "\n",
        "Welcome to On-Ramp To Python!\n",
        "<p/>\n",
        "<img src=\"https://media.giphy.com/media/b73wUq1jFLBTy/giphy.gif\"/>\n",
        "<p/>\n",
        "These sessions use a Flipped Classroom Model, where new ideas and work is done independently before class, then during class facilitators answer questions about that work and put those ideas into practice. If you struggle with an exercise, or something is hard to understand, that is OK! Do what you can and bring your questions to the meeting.\n",
        "\n",
        "During the first week you'll learn about variables and how to print things on the screen and to ask for information from a user. You should work through the material in the Week 1 section, up to where it tells you to stop, before the first virtual session.\n",
        "\n",
        "\n",
        "\n",
        "\n",
        "\n"
      ]
    },
    {
      "cell_type": "markdown",
      "metadata": {
        "id": "E9sDO2GutYkn"
      },
      "source": [
        "# About Colab\n",
        "The document you are reading is not a static web page, but an interactive environment called a **Colab notebook** that lets you write and execute code.\n",
        "\n",
        "For example, here is a **code cell** with a short Python script that computes a value, stores it in a variable, and prints the result:\n",
        "\n"
      ]
    },
    {
      "cell_type": "code",
      "metadata": {
        "id": "-Tf2BeOT4vXE",
        "executionInfo": {
          "status": "ok",
          "timestamp": 1625240711302,
          "user_tz": 240,
          "elapsed": 22,
          "user": {
            "displayName": "Abi Hunter",
            "photoUrl": "https://lh3.googleusercontent.com/a-/AOh14GifQvgGC00T43-JEV8zO7hxrjrY6pI98Nw67F6jDg=s64",
            "userId": "02034436901701605984"
          }
        },
        "outputId": "ce4895f5-8cdd-4eba-8003-3c20af1ba7b9"
      },
      "source": [
        "minutes_in_one_day = 60 * 24\n",
        "print(minutes_in_one_day)"
      ],
      "execution_count": null,
      "outputs": [
        {
          "output_type": "stream",
          "text": [
            "1440\n"
          ],
          "name": "stdout"
        }
      ]
    },
    {
      "cell_type": "markdown",
      "metadata": {
        "id": "QbU7L8O95HYH"
      },
      "source": [
        "To execute the code in the above cell, select it with a click and then either press the play button to the left of the code, or use the keyboard shortcut \"Command/Ctrl+Enter\". To edit the code, just click the cell and start editing.\n",
        "\n",
        "Variables that you define in one cell can later be used in other cells:"
      ]
    },
    {
      "cell_type": "code",
      "metadata": {
        "id": "Dlf5C9135MTF",
        "executionInfo": {
          "status": "ok",
          "timestamp": 1625240725056,
          "user_tz": 240,
          "elapsed": 130,
          "user": {
            "displayName": "Abi Hunter",
            "photoUrl": "https://lh3.googleusercontent.com/a-/AOh14GifQvgGC00T43-JEV8zO7hxrjrY6pI98Nw67F6jDg=s64",
            "userId": "02034436901701605984"
          }
        },
        "outputId": "41bafc0d-53e1-4f8b-992e-decd7bff0687"
      },
      "source": [
        "minutes_in_one_week = minutes_in_one_day * 7\n",
        "print(minutes_in_one_week)"
      ],
      "execution_count": null,
      "outputs": [
        {
          "output_type": "stream",
          "text": [
            "10080\n"
          ],
          "name": "stdout"
        }
      ]
    },
    {
      "cell_type": "markdown",
      "metadata": {
        "id": "2ZsRcjvL7f-Z"
      },
      "source": [
        "If a lot of this doesn't make sense, that's ok! We'll cover it later. "
      ]
    },
    {
      "cell_type": "markdown",
      "metadata": {
        "id": "V952DT4FtZts"
      },
      "source": [
        "# Welcome to Coding!"
      ]
    },
    {
      "cell_type": "markdown",
      "metadata": {
        "id": "0MwaVXvMuTND"
      },
      "source": [
        "## Introduction to On-Ramp\n",
        "\n",
        "This website teaches computer programming. With programming you can automate computer tasks, make art and music, interpret and analyze survey results, build tools for other people, create custom websites and apps, write games, examine genetic data, connect people with each other, and the list goes on and on.\n",
        "\n"
      ]
    },
    {
      "cell_type": "markdown",
      "metadata": {
        "id": "am275QmVuTZm"
      },
      "source": [
        "## What is a computer program?\n",
        "\n",
        "<img src=\"https://media.giphy.com/media/b73wUq1jFLBTy/giphy.gif\"/>\n",
        "<p>A computer program is a series of instructions, written in words, numbers and symbols. Just like any spoken sentence is in a human language like English or French, every computer program is in a programming language. A few popular programming languages are Python (what we will teach here), C++, JavaScript and PHP (there are <a target=\"_blank\" href=\"http://helloworldcollection.de\">hundreds more</a>). We have chosen to teach Python since it is both simple enough for beginners and powerful enough to be used by <a target=\"_blank\" href=\"https://thenewstack.io/instagram-makes-smooth-move-python-3/\">modern companies</a>. All programming languages use the same foundational concepts. After learning any one language, you can pivot to a different one should you wish to do so.</p>\n",
        "<p>Computers need to be given instructions because, in general, computer are quite dumb. Computers only do what we tell them to do through our code.  According to Mark Guzidial, an expert in teaching computer science, computers can only do four things: <a target=\"_blank\" href=\"https://runestone.academy/runestone/static/StudentCSP/CSPTuring/abilities.html\">[1]</a></p>\n",
        "\n",
        "* Computers can remember names for values...\n",
        "* Computers can repeat steps.\n",
        "* Computers can make decisions.\n",
        "* Computers can take data apart.\n",
        "\n",
        "<p>In On-Ramp To Python you will learn how to instruct the computer to do these four things using the Python programming language.</p>\n",
        "<p>[1] <a target=\"_blank\" href=\"https://runestone.academy/runestone/static/StudentCSP/CSPTuring/abilities.html\">URL reference (accessed 7/13/18)</a></p>"
      ]
    },
    {
      "cell_type": "markdown",
      "metadata": {
        "id": "g2145ALruTp5"
      },
      "source": [
        "## Hello, World!\n",
        "\n",
        "<p>Here is the first line of Python code in our lessons.</p>\n",
        "<iframe src=\"//trinket.io/embed/python/01e0960669?toggleCode=true&amp;runOption=run\" width=\"100%\" height=\"200\" frameborder=\"0\" marginwidth=\"0\" marginheight=\"0\" allowfullscreen=\"\" class=\"embedded-content\"></iframe>"
      ]
    },
    {
      "cell_type": "code",
      "metadata": {
        "id": "mrnWWbplwFfa"
      },
      "source": [
        "print(\"Hello, World!\")"
      ],
      "execution_count": null,
      "outputs": []
    },
    {
      "cell_type": "markdown",
      "metadata": {
        "id": "fZBT5ZJNwFud"
      },
      "source": [
        "<p>.</p>\n",
        "<p>When you run a program (by clicking on the <strong>triangle play button</strong>... try it out!) you also get to see the output. The example program above only has one command, print(\"Hello, World!\") and it created one line of output.</p>\n",
        "<p>Here is an analysis of this first program (click on the <strong>pencil icon</strong> to view the code again):</p>\n",
        "<ul>\n",
        "<li><p><code>print</code> is the name of a Python <strong>function</strong>, which sends messages to output.</p>\n",
        "</li><li><p>The parentheses <code>()</code> after the print command are used to contain what you want the<code>print</code> function to actually print.  We say that that the <code>print</code> function has a <strong>parameter</strong> which it then prints to the screen.</p>\n",
        "</li><li><p>The quote marks <code>\" \"</code> are used as a container for the text string <code>Hello, World!</code> inside. Without quotes, Python would think that Hello was meant to be a command. This would be cause an error since no such command exists.</p>\n",
        "</li></ul>\n",
        "<p>You will learn more about the different pieces of a Python program as you progress through these lessons.</p>"
      ]
    },
    {
      "cell_type": "markdown",
      "metadata": {
        "id": "Nx302sB8uT4G"
      },
      "source": [
        "## Break Things... Learn Things!\n",
        "\n",
        "<p>Click on the run button now to see what happens when we leave out the quotes.</p>"
      ]
    },
    {
      "cell_type": "code",
      "metadata": {
        "id": "lK8yFUaIw-wR"
      },
      "source": [
        "print(Hello, World!)"
      ],
      "execution_count": null,
      "outputs": []
    },
    {
      "cell_type": "markdown",
      "metadata": {
        "id": "bwrNu5C2w_QH"
      },
      "source": [
        "<p>Here, the program crashed: this means something went wrong, causing an error and forcing the program to stop.</p>\n",
        "<p>We can see from the red bar at the bottom of the code that we have a Syntax Error. Often times this means that we made a typo or forgot to include an important part of the command.</p>\n",
        "<p><strong>Click on the code cell above and fix the code so that it runs correctly.</strong></p>"
      ]
    },
    {
      "cell_type": "markdown",
      "metadata": {
        "id": "L8Q1FSbzuUDa"
      },
      "source": [
        "## Your First Line of Code (exercise)\n",
        "\n",
        "<p>Your first exercise is given below. It asks you to write a program similar to the previous program. Type your program into the box, and when you want to test whether your program correctly performs the task, press the Run program button. If you don't get it correct on the first try, edit the program and try running it again. Submit your exercise when you are done.</p>\n",
        "<p><strong>Goal</strong>: Write one line of code that prints <code>Hello, Pittsburgh!</code> on the screen.</p>"
      ]
    },
    {
      "cell_type": "code",
      "metadata": {
        "id": "gsigOcdQxgRY"
      },
      "source": [
        "# write the code to print Hello, Pittsburgh! here"
      ],
      "execution_count": null,
      "outputs": []
    },
    {
      "cell_type": "markdown",
      "metadata": {
        "id": "LZDAjDtguUfS"
      },
      "source": [
        "## This or That - Part 1 (exercise)\n",
        "\n",
        "<p>In this exercise, you will begin writing the code for a 'This or That' quiz. Not sure what a This or That quiz is?  According to Hobby Lark web page author,  <a target=\"_blank\" href=\"https://hobbylark.com/party-games/Funny-This-or-That-Questions\">Tatiana</a>,</p>\n",
        "<blockquote>\n",
        "<p>\"This game poses questions involving two choices in which\n",
        "the player must answer with one of the choices, even if\n",
        "neither of them really appeal to the person. \"This or That\"\n",
        "questions can be funny and outrageous, serious, or mundane.''</p>\n",
        "</blockquote>\n",
        "<p>One of her 'This or That' suggestions is \"Book or Kindle?\" Look over <a target=\"_blank\" href=\"https://hobbylark.com/party-games/Funny-This-or-That-Questions\">this list</a> of suggested 'This or That' questions and select five of them (or make up your own!).  Now write the code to print these five questions on the screen.</p>"
      ]
    },
    {
      "cell_type": "code",
      "metadata": {
        "id": "14Gt6s8Ex2fT"
      },
      "source": [
        "# write the code here to print five different 'This or That' questions on the screen."
      ],
      "execution_count": null,
      "outputs": []
    },
    {
      "cell_type": "markdown",
      "metadata": {
        "id": "vgEm4ynbtc_h"
      },
      "source": [
        "# Getting Started with Variables"
      ]
    },
    {
      "cell_type": "markdown",
      "metadata": {
        "id": "PDMveGULufyJ"
      },
      "source": [
        "## Variables Are A Way Of Naming Information\n",
        "\n",
        "<p>Earlier we talked about the four things computers can do.  One was 'remember names for values'. This is accomplished using <strong>variables</strong>.</p>\n",
        "<p>Variables act as \"storage locations\" for data in a program. They are a way of naming information for later usage. Each variable has a name; an example variable name we will use is <code>myLuckyNumber</code>. To store information in a variable, we write a command using <strong>an equals sign</strong> in the following way:</p>\n",
        "<p><code>«the variable name» = «the value you want to store»</code></p>\n",
        "<p>(We use «double angle brackets» in our lessons, like above, to indicate special parts of expressions.) For example, the Python line</p>\n",
        "<p><code>myLuckyNumber = 13</code></p>\n",
        "<p>stores the value 13 in the variable <code>myLuckyNumber</code>. Then, anywhere you write the variable name <code>myLuckyNumber</code> again, Python retrieves the stored value. </p>\n",
        "<p>Below, there is a short example of using variables. It has more than one line of instructions: Python executes the first line, then the second line, and so forth until it reaches the last line. Press the Run program button to see what it does.</p>"
      ]
    },
    {
      "cell_type": "code",
      "metadata": {
        "id": "hSh9wNsHyHAs"
      },
      "source": [
        "myLuckyNumber = 13\n",
        "print(myLuckyNumber + 1)\n",
        "print(myLuckyNumber)\n",
        "myLuckyNumber = 5 + 2\n",
        "\n",
        "print(myLuckyNumber)"
      ],
      "execution_count": null,
      "outputs": []
    },
    {
      "cell_type": "markdown",
      "metadata": {
        "id": "fU819VdcyJaA"
      },
      "source": [
        "[img](![image.png](data:image/png;base64,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)\n",
        "<p>Look at the 5 lines of the program in order, and how they correspond to the output. </p>\n",
        "<p>As you can see, <code>myLuckyNumber</code> keeps its value of <code>13</code> for the first two print statements, then its value is changed to <code>7</code>. We also introduced the <strong>plus operator (+)</strong> above, which adds two numbers together. Similarly, there are <strong>operators for subtraction (-), multiplication (*), and division (/)</strong>. We'll return to these in a later lesson.</p>\n",
        "<p>.</p>\n",
        "<p><strong>Naming Variables</strong></p>\n",
        "<p>There are just a couple of rules to follow when naming your variables.</p>\n",
        "<ul>\n",
        "<li>Variable names can contain letters, numbers, and the underscore.</li><li>Variable names <strong>cannot contain spaces</strong>.</li><li>Variable names <strong>cannot start with a number</strong>.</li><li><strong>Case matters</strong>—for instance, <code>temp</code> and <code>Temp</code> are different storage locations.</li></ul>\n",
        "<p>It helps make your program more understandable to another person if you <strong>choose names that are descriptive</strong>, but not so long that they clutter up your program. For example <code>myLuckyNumber</code> is more descriptive than <code>mln</code>.</p>"
      ]
    },
    {
      "cell_type": "markdown",
      "metadata": {
        "id": "2TXuRRJMugAl"
      },
      "source": [
        "## Tracing the Value of Variables with Paper\n",
        "\n",
        "<p>You can simulate the memory storage of a computer with paper and pencil, by keeping track of the values in a table. Here is an example; remember that <code>*</code> means multiplication in Python.</p>\n",
        "<p><strong>Goal:</strong> Determine the final values of all variables at the end of the program.</p>\n",
        "<pre><code>first = 2\n",
        "second = 3\n",
        "third = first * second\n",
        "second = third - first\n",
        "first = first + second + third\n",
        "third = second * first\n",
        "</code></pre><p><strong>Idea</strong>: We use a table to keep track of the values as they change.</p>\n",
        "<table>\n",
        "<thead>\n",
        "<tr>\n",
        "<th>Statement</th>\n",
        "<th style=\"text-align:center\">first</th>\n",
        "<th style=\"text-align:center\">second</th>\n",
        "<th style=\"text-align:center\">third</th>\n",
        "</tr>\n",
        "</thead>\n",
        "<tbody>\n",
        "<tr>\n",
        "<td>first = 2</td>\n",
        "<td style=\"text-align:center\">2</td>\n",
        "<td style=\"text-align:center\"></td>\n",
        "<td style=\"text-align:center\"></td>\n",
        "</tr>\n",
        "<tr>\n",
        "<td>second = 3</td>\n",
        "<td style=\"text-align:center\">2</td>\n",
        "<td style=\"text-align:center\">3</td>\n",
        "<td style=\"text-align:center\"></td>\n",
        "</tr>\n",
        "<tr>\n",
        "<td>third = first * second</td>\n",
        "<td style=\"text-align:center\">2</td>\n",
        "<td style=\"text-align:center\">3</td>\n",
        "<td style=\"text-align:center\">6</td>\n",
        "</tr>\n",
        "<tr>\n",
        "<td>second = third - first</td>\n",
        "<td style=\"text-align:center\">2</td>\n",
        "<td style=\"text-align:center\"><span class=\"gray\"><del>3</del></span> 4</td>\n",
        "<td style=\"text-align:center\">6</td>\n",
        "</tr>\n",
        "<tr>\n",
        "<td>first = first + second + third</td>\n",
        "<td style=\"text-align:center\"><span class=\"gray\"><del>2</del></span> 12</td>\n",
        "<td style=\"text-align:center\">4</td>\n",
        "<td style=\"text-align:center\">6</td>\n",
        "</tr>\n",
        "<tr>\n",
        "<td>third = second * first</td>\n",
        "<td style=\"text-align:center\">12</td>\n",
        "<td style=\"text-align:center\">4</td>\n",
        "<td style=\"text-align:center\"><span class=\"gray\"><del>6</del></span> 48</td>\n",
        "</tr>\n",
        "</tbody>\n",
        "</table>\n",
        "<p>At the end of the program, the value of <code>first</code> is 12, the value of <code>second</code> is 4, and the value of <code>third</code> is 48. Drawing a table like this on pencil and paper is always a good idea and helpful when understanding or fixing code.</p>"
      ]
    },
    {
      "cell_type": "markdown",
      "metadata": {
        "id": "L5GjSPHKugLp"
      },
      "source": [
        "## Two Common Errors\n",
        "\n",
        "<p><strong>What is X?</strong></p>\n",
        "\n"
      ]
    },
    {
      "cell_type": "code",
      "metadata": {
        "id": "m1AvDW5py8ZK"
      },
      "source": [
        "x = 10\n",
        "x = x + x\n",
        "x = x - 5\n",
        "print(x)"
      ],
      "execution_count": null,
      "outputs": []
    },
    {
      "cell_type": "markdown",
      "metadata": {
        "id": "e9e6lbZqy_tN"
      },
      "source": [
        "<p>.</p>\n",
        "<p><strong> Errors </strong></p>\n",
        "<p>If you ask Python about a variable that has not been defined, you get an error.</p>\n"
      ]
    },
    {
      "cell_type": "code",
      "metadata": {
        "id": "TnPW3cWtzB2C"
      },
      "source": [
        "print(trouble)"
      ],
      "execution_count": null,
      "outputs": []
    },
    {
      "cell_type": "markdown",
      "metadata": {
        "id": "ykM6xX6tzDfy"
      },
      "source": [
        ".</p>\n",
        "<p>As you can see, we get an error message saying NameError: name 'trouble' is not defined. Python is expecting a string in quotes or a variable that has already been created. Here we have neither, so the error is shown.</p>\n",
        "<p>Sometimes you can get errors like this from simple typos: if you define a variable <code>address=32</code>, then try to <code>print(adress)</code>, the same type of error occurs. (Typo with only one 'd' in second variable name.)</p>\n",
        "<p>Another error has to do with accidentally swapping the sides of an = statement.</p>\n"
      ]
    },
    {
      "cell_type": "code",
      "metadata": {
        "id": "x1A_g1WuzQhB"
      },
      "source": [
        "x = 4\n",
        "4 = x"
      ],
      "execution_count": null,
      "outputs": []
    },
    {
      "cell_type": "markdown",
      "metadata": {
        "id": "zULJrLnGzI9T"
      },
      "source": [
        ".</p>\n",
        "<p>The first line is fine, but the second line causes an error: Python thinks the second line 4 = x is trying to change the value of 4, but you are only allowed to change the values of variables, and 4 is not a variable. While A = B and B = A are the same in mathematics, they are different in programming.</p>\n",
        "<p>.</p>"
      ]
    },
    {
      "cell_type": "markdown",
      "metadata": {
        "id": "a_YltJ2zugXV"
      },
      "source": [
        "##  Heads, Shoulders, Knees and Toes (exercise)\n"
      ]
    },
    {
      "cell_type": "markdown",
      "metadata": {
        "id": "8aZEHUQ817Wr"
      },
      "source": [
        "<p>Write a program to count heads, shoulders, knees, and toes at a party. </p>\n",
        "<ul>\n",
        "<li>First define a variable that will hold the total number of people at the party. </li><li>Then define four variables, one called heads, one called shoulders, one called knees, and one called toes, equal to the number of heads, shoulders, knees, and toes in total at the party. </li><li>Print labels along with the calculated values. </li></ul>\n",
        "<p><strong>(Expand the Hint section if you need help.)</strong></p>"
      ]
    },
    {
      "cell_type": "code",
      "metadata": {
        "id": "iT_RozEU2NVG"
      },
      "source": [
        "# write your solution here"
      ],
      "execution_count": null,
      "outputs": []
    },
    {
      "cell_type": "markdown",
      "metadata": {
        "id": "iPzY7sCr1vuT"
      },
      "source": [
        "### Hint"
      ]
    },
    {
      "cell_type": "markdown",
      "metadata": {
        "id": "F3VQCWiF2GCx"
      },
      "source": [
        "One line of your code might be\n",
        "\n",
        "`heads = 1 * people`\n",
        "\n",
        "since the number of heads equals the number of people."
      ]
    },
    {
      "cell_type": "markdown",
      "metadata": {
        "id": "KZGVKu1qugjx"
      },
      "source": [
        "##  This or That - Part 2 (exercise)"
      ]
    },
    {
      "cell_type": "markdown",
      "metadata": {
        "id": "0VsWCdDM2kN0"
      },
      "source": [
        "<p>Up to now, we have only been assigning numbers to variable. We can also assign words to variables. Words are called <strong>strings</strong> in Python. We tell Python that we are using a string by putting the right side of the assignment in <strong>quotes</strong>, like this:</p>\n",
        "<pre><code>readingPreference = \"book\"\n",
        "</code></pre><p>We will look at strings in more detail in a later On-Ramp session.</p>\n",
        "<p>In this coding trinket, write five 'this or that' variables related to the questions that you selected and assign a string answer to each on (see the example variable assignment above). Then print the values of the variables.</p>\n"
      ]
    },
    {
      "cell_type": "code",
      "metadata": {
        "id": "qUPkvX_92wuw"
      },
      "source": [
        "# write your solution here"
      ],
      "execution_count": null,
      "outputs": []
    },
    {
      "cell_type": "markdown",
      "metadata": {
        "id": "YE2FtZrrthKN"
      },
      "source": [
        "# Comments, Functions, Input\n"
      ]
    },
    {
      "cell_type": "markdown",
      "metadata": {
        "id": "ztFfTo6Au-Nr"
      },
      "source": [
        "## Comments\n",
        "\n",
        "<p>A <strong>comment</strong> is a message to someone reading your code. This could be someone else, or yourself in the future. Comments are often used to <strong>describe what a section of code does or how it works</strong>, especially with tricky sections of code. Comments are ignored by the computer and have no effect on your program.</p>\n",
        "<p>Other common uses for comments include:</p>\n",
        "<ul>\n",
        "<li>leaving \"to do\" notes, when you write a longer program;</li><li>temporarily disabling (\"commenting out\") a line of a program without totally deleting it, so that it is easier to put back in later.</li></ul>\n",
        "<p><strong>Single-line comments</strong></p>\n",
        "<p>For a single-line comment, use the <code>#</code> character.</p>\n",
        "<pre><code># here is how you can collect two words from a user\n",
        "word1, word2 = input(\"Enter two words here: \").split()\n",
        "</code></pre><p>.</p>\n",
        "<p>You can also put comments at the end of a line:</p>\n",
        "<pre><code>if (favoriteNumber %2 == 0):   # is favoriteNumber even?\n",
        "    print(\"even!\")\n",
        "</code></pre><p>.</p>\n",
        "<p><strong>Multi-line comments</strong></p>\n",
        "<p>For comments that span several lines, you can use triple quotes (either 3 <strong>\"</strong> or 3 <strong>'</strong>) at the beginning and the end of the commented lines.</p>\n",
        "<pre><code>\"\"\" Program name: Hello world\n",
        "    Author: Brian Heinold\n",
        "    Date: 1/9/11 \"\"\"\n",
        "\n",
        "print('Hello world')\n",
        "</code></pre><p>.</p>\n",
        "<p>One nice use for the triple quotes is to <strong>comment out parts of your code</strong>. Often you will want to modify your program but don't want to delete your old code in case your changes don't work. You could comment out the old code so that it is still there if you need it, and it will be ignored when your new program is run. Here is a simple example:</p>\n",
        "<pre><code>\"\"\"\n",
        "print('This line and the next are inside a comment.')\n",
        "print('These lines will not get executed.')\n",
        "\"\"\"\n",
        "print('This line is not in a comment and it will be executed.')\n",
        "</code></pre>"
      ]
    },
    {
      "cell_type": "markdown",
      "metadata": {
        "id": "Hkq5wu9Guw00"
      },
      "source": [
        "## Get To Know Functions"
      ]
    },
    {
      "cell_type": "markdown",
      "metadata": {
        "id": "WXTvsO323L-Q"
      },
      "source": [
        "<p>We have seen one function already, <code>print()</code>, which outputs a message. </p>\n",
        "<p>To use a function you always write <strong>its name, followed by parentheses<code>()</code>. Often times, some value or variable will be inside the parentheses <code>()</code></strong>. These are known as \"arguments\". Argument basically means an input to the function. Then, the function does some action depending on the arguments. </p>\n",
        "<p>When there are multiple arguments to a function, you separate them with commas. For example, in Python 3.x you can give multiple arguments to <code>print</code>; it will print all of them in order, with spaces separating them. We demonstrate in the example below. </p>\n"
      ]
    },
    {
      "cell_type": "code",
      "metadata": {
        "id": "NxnlvmaG3UdW"
      },
      "source": [
        "x = 3\n",
        "print(x, x +   x  , x * x)"
      ],
      "execution_count": null,
      "outputs": []
    },
    {
      "cell_type": "markdown",
      "metadata": {
        "id": "7DRKR2lB3MLw"
      },
      "source": [
        "\n",
        "<p><strong>An Aside on Spaces</strong></p>\n",
        "<p>The extra spaces in the sample program above had no effect on the output.\n",
        "<strong>Spaces matter at the beginning of lines, but not elsewhere.</strong> For example, the code below will not work.</p>\n",
        "<pre><code>temp = int(input('Enter a temperature in Celsius: '))\n",
        "  print('In Fahrenheit, that is', 9/5*temp+32)\n",
        "</code></pre><p>Python uses indentation of lines for things we'll learn about soon. On the other hand, spaces in most other places don't matter. For instance, the following lines have the same effect:</p>\n",
        "<pre><code>print('Hello world!')\n",
        "print ('Hello world!')\n",
        "print( 'Hello world!' )\n",
        "</code></pre>\n",
        "<p>A function may also give back a value (like an output). For example the <strong>function <code>max()</code> (short for maximum) gives back the largest out of all of its arguments</strong>, which must be numbers.</p>\n",
        "<p>Try to predict the output of the following program, before you run it.</p>\n"
      ]
    },
    {
      "cell_type": "code",
      "metadata": {
        "id": "o-oqqi4T3USc"
      },
      "source": [
        "print(max(42, 17))\n",
        "print(max(128,281,812))"
      ],
      "execution_count": null,
      "outputs": []
    },
    {
      "cell_type": "markdown",
      "metadata": {
        "id": "c8rq7Oya3MYE"
      },
      "source": [
        "<p><strong>The name 'return value' means the value that a function gives back.</strong> For example with <code>max(42, 17)</code> we say that \"the function <code>max</code> returned the value <code>42</code>.\"</p>\n",
        "<p>The <code>max</code> function has a friend which behaves similarly: <strong>the <code>min</code> function returns the minimum (smallest) of its arguments</strong>.</p>\n",
        "<p>Try to predict the output of the following program, before you run it.</p>\n"
      ]
    },
    {
      "cell_type": "code",
      "metadata": {
        "id": "DY9w--tz3Q8I"
      },
      "source": [
        "x = 13\n",
        "y = 7\n",
        "a = max(x+y, x*2)\n",
        "b = min(x, y)\n",
        "print(a,b)"
      ],
      "execution_count": null,
      "outputs": []
    },
    {
      "cell_type": "markdown",
      "metadata": {
        "id": "J6uLYNha3MjP"
      },
      "source": [
        "<p>.</p>\n",
        "<p>Functions can be combined to create more complicated expressions.</p>\n",
        "<p>Try to predict the output of the following program, before you run it. Click on the hint.txt tab, if needed.</p>"
      ]
    },
    {
      "cell_type": "code",
      "metadata": {
        "id": "CeSwUTOw3Oqc"
      },
      "source": [
        "x = min(max(13, 7), 9)\n",
        "print(x)"
      ],
      "execution_count": null,
      "outputs": []
    },
    {
      "cell_type": "markdown",
      "metadata": {
        "id": "ZfkgyUwfuxBI"
      },
      "source": [
        "## Understanding Errors"
      ]
    },
    {
      "cell_type": "markdown",
      "metadata": {
        "id": "bm8W6QPU3q6r"
      },
      "source": [
        "<p>If you call a function with not enough arguments (inputs) or too many arguments, you get an error. For example, max requires at least one input:</p>\n"
      ]
    },
    {
      "cell_type": "code",
      "metadata": {
        "id": "m6Kj777-3svq"
      },
      "source": [
        "max()"
      ],
      "execution_count": null,
      "outputs": []
    },
    {
      "cell_type": "markdown",
      "metadata": {
        "id": "wkGANZdy3rKS"
      },
      "source": [
        "<p>It's very important to carefully read the errors that you get back, when your code doesn't work. Python will usually give you helpful feedback on what went wrong. However, sometimes you need to look around a little bit to diagnose the problem — here's an example.</p>\n"
      ]
    },
    {
      "cell_type": "code",
      "metadata": {
        "id": "0LCWfuzG3tD2"
      },
      "source": [
        "smaller = min(14, 99\n",
        "bigger = max(3, 4)"
      ],
      "execution_count": null,
      "outputs": []
    },
    {
      "cell_type": "markdown",
      "metadata": {
        "id": "rmz5beGI3sfp"
      },
      "source": [
        "<p>Python says there is a syntax error, which means it can't understand what you're trying to do:</p>\n",
        "<p><code>SyntaxError: bad input on line 2 in main.py</code></p>\n",
        "<p> However, the line <code>bigger = max(3, 4)</code> is actually fine. The problem actually spilled over from the previous line: we forgot to add the closing parenthesis <code>)</code> after <code>smaller = min(14, 99</code> and Python started looking at the next line for the <code>)</code>. So, check the lines before and after what Python suggests, if you are stuck debugging your programs.</p>\n"
      ]
    },
    {
      "cell_type": "markdown",
      "metadata": {
        "id": "rQjuDq2YuxMT"
      },
      "source": [
        "## Input"
      ]
    },
    {
      "cell_type": "markdown",
      "metadata": {
        "id": "YAyjEc_l4C0R"
      },
      "source": [
        "<p><code>input()</code> is another python function  (like <code>min()</code>  and <code>max()</code>). <strong>The <code>input()</code> function is used to present a text prompt to a user and to obtain a value from that user</strong>. The text prompt is an argument to the input function. Here is an example of how input is used:</p>\n"
      ]
    },
    {
      "cell_type": "code",
      "metadata": {
        "id": "hywZySh64DFJ"
      },
      "source": [
        "firstName = input(\"What is your first name? \")\n",
        "print(\"Hello, \" + firstName + \".\")"
      ],
      "execution_count": null,
      "outputs": []
    },
    {
      "cell_type": "markdown",
      "metadata": {
        "id": "HJrLC2LM4DS9"
      },
      "source": [
        "<p>In this example you can see that we start with a variable name <code>firstName</code> and using the <code>=</code> symbol we assign the variable the value of whatever is typed in by the user following the prompt \"What is your first name? \"</p>\n",
        "<p>The basic structure is</p>\n",
        "<pre><code>&lt;&lt; the variable name &gt;&gt; = input(&lt;&lt; the message to user &gt;&gt;)\n",
        "</code></pre><p>.</p>\n",
        "<p>After we obtain the first name of the user, we greet the user using a print statement.  And here is something cool... in Python, you can add text (called 'strings' in Python) together using the <code>+</code> symbol.  So we added 'Hello, ' and the firstName together.  Then we added on a <code>.</code> at the end (because remember computers are dumb and have to be told everything!).  </p>\n"
      ]
    },
    {
      "cell_type": "markdown",
      "metadata": {
        "id": "GJ2BaQmouxa3"
      },
      "source": [
        "## Using Min and Max - Part 1 (exercise)\n",
        "\n",
        "<p>This is a two-part exercise <strong>using the min and max functions</strong>. </p>\n",
        "<p>There are connections between the cities of Maxime and Miniac with several bridges. There is a separate limit on the amount of weight that can be transported across each bridge.</p>\n",
        "<p>.</p>\n",
        "<p><img src=\"https://cscircles.cemc.uwaterloo.ca/wp-content/lesson_files/img/2/one-road.png\" alt=\"the cities of Maxime and Miniac\"></p>\n",
        "<p>.</p>\n",
        "<p>In order to drive along the route, your truck needs to drive first over the bridge with weight limit a, then the one with weight limit b, then the one with weight limit c. Your truck will crash if you overload any of the three weight limits. </p>\n",
        "<p>Write a program that prints out the maximum weight that can be transported along this road. Write your code so that the variables <code>a</code>, <code>b</code>, and <code>c</code> contain the bridge weight limits.  The included comments can help guide your thinking on this problem.</p>\n"
      ]
    },
    {
      "cell_type": "code",
      "metadata": {
        "id": "qhyEf2ZS4abg"
      },
      "source": [
        "# example variable\n",
        "a = 1500\n",
        "\n",
        "# write the statements for the remaining two variables\n",
        "\n",
        "\n",
        "# the truck can't exceed the smallest weight limit\n",
        "# how can we have the computer determine which \n",
        "# bridge has the smallest, weight-limiting value?\n",
        "\n",
        "\n",
        "# now print the value that the computer identified"
      ],
      "execution_count": null,
      "outputs": []
    },
    {
      "cell_type": "markdown",
      "metadata": {
        "id": "kKH6VnoVuxmR"
      },
      "source": [
        "## Using Min and Max - Part 2 (exercise)\n",
        "\n",
        "<p>There is more to this story. There is also a second route consisting of two bridges, the first with weight limit d, and the second with weight limit e, as illustrated below.</p>\n",
        "<p> .</p>\n",
        "<p> <img src=\"https://cscircles.cemc.uwaterloo.ca/wp-content/lesson_files/img/2/two-roads.png\" alt=\"the cities of Maxime and Miniac\"></p>\n",
        "<p> <strong>Your truck can take either route</strong>. Write a program that prints out the maximum weight that can be transported between the two cities. Write your code so that the variables a, b, c, d, and e contain the bridge weight limits.</p>\n",
        "\n",
        "<p><strong>(Expand the Hint sections if you need help.)</strong></p>"
      ]
    },
    {
      "cell_type": "code",
      "metadata": {
        "id": "iaYnXVXD4iym"
      },
      "source": [
        "# example variable\n",
        "a = 1500\n",
        "\n",
        "# write the statements for the remaining four variables\n",
        "\n",
        "\n",
        "# Route 1\n",
        "# the truck can't exceed the smallest weight limit\n",
        "# how can we have the computer determine the smallest, \n",
        "# weight-limiting value on Route 1? \n",
        "\n",
        "\n",
        "# Route 2\n",
        "# the truck can't exceed the smallest weight limit\n",
        "# how can we have the computer determine the smallest, \n",
        "# weight-limiting value on Route 2? \n",
        "\n",
        "\n",
        "# Now, how can we have the computer determine which route will\n",
        "# allow the most weight?\n",
        "\n",
        "\n",
        "# now print the value that the computer identified"
      ],
      "execution_count": null,
      "outputs": []
    },
    {
      "cell_type": "markdown",
      "metadata": {
        "id": "ERxcLPMo4qTl"
      },
      "source": [
        "### Hint 1"
      ]
    },
    {
      "cell_type": "markdown",
      "metadata": {
        "id": "BEudiDkb4qTm"
      },
      "source": [
        "A correct solution for the previous 'One Road' exercise \n",
        "will give you part of the correct solution for this one.\n",
        "\n"
      ]
    },
    {
      "cell_type": "markdown",
      "metadata": {
        "id": "J00ZTrR-4qjd"
      },
      "source": [
        "### Hint 2"
      ]
    },
    {
      "cell_type": "markdown",
      "metadata": {
        "id": "Kvi12gvj4qje"
      },
      "source": [
        "Try computing the largest weight that can be sent along each of the paths.\n",
        "\n",
        "How can those two numbers be combined to determine the overall limit, \n",
        "if you have the freedom to choose either path?\n"
      ]
    },
    {
      "cell_type": "markdown",
      "metadata": {
        "id": "tlPLecb4uxxu"
      },
      "source": [
        "## This or That Quiz - Part 3 (exercise)\n",
        "\n",
        "Use your coding knowledge to ask a person five 'this or that' and then print out their answers."
      ]
    },
    {
      "cell_type": "code",
      "metadata": {
        "id": "3taS55mk43Nn"
      },
      "source": [
        "# write your solution here"
      ],
      "execution_count": null,
      "outputs": []
    },
    {
      "cell_type": "markdown",
      "metadata": {
        "id": "z32hncReuyEa"
      },
      "source": [
        "## Week 1 Wrap-Up\n",
        "\n",
        "<p>Congratulations on reaching the end of the material for Week 1!  You can do quite a bit with Python already!  You can print things on the screen, add comments to your code, ask a user for information, and use a couple of different <a target=\"_blank\" href=\"https://www.w3schools.com/python/python_ref_functions.asp\">built-in functions</a>.  And you learned about naming things using variables, which is one of the four superpowers of computers.  </p>\n",
        "<p><strong>Tools You Can Use Wrap-Up</strong></p>\n",
        "<p>The following functions are <a target=\"_blank\" href=\"https://www.w3schools.com/python/python_ref_functions.asp\">built-in functions</a> in Python.</p>\n",
        "<ul>\n",
        "<li><p><a target=\"_blank\" href=\"https://www.w3schools.com/python/ref_func_input.asp\">input()</a></p>\n",
        "</li><li><p><a target=\"_blank\" href=\"https://www.w3schools.com/python/ref_func_max.asp\">max()</a></p>\n",
        "</li><li><p><a target=\"_blank\" href=\"https://www.w3schools.com/python/ref_func_min.asp\">min()</a></p>\n",
        "</li><li><p><a target=\"_blank\" href=\"https://www.w3schools.com/python/ref_func_print.asp\">print()</a></p>\n",
        "</li></ul>\n",
        "\n",
        "<p>Also covered this week:</p>\n",
        "<ul>\n",
        "<li><p><a target=\"_blank\" href=\"https://www.quackit.com/python/tutorial/python_variables.cfm\">variables</a></p>\n",
        "</li><li><p>including comments with <code>#</code> and <code>\"\"\"</code> . . . <code>\"\"\"</code></p>\n",
        "</li></ul>\n",
        "<hr>\n",
        "\n",
        "<p>You can stop here. We'll be reviewing and using this week's material when we meet virtually.  See you then! </p>"
      ]
    },
    {
      "cell_type": "markdown",
      "metadata": {
        "id": "Y3pYnpostjSu"
      },
      "source": [
        "# Virtual Session Coding\n"
      ]
    },
    {
      "cell_type": "markdown",
      "metadata": {
        "id": "OfBes4fEvBGW"
      },
      "source": [
        "## Week 1 -Stop"
      ]
    },
    {
      "cell_type": "markdown",
      "metadata": {
        "id": "4A2HD0BovBSB"
      },
      "source": [
        "## Debugging print statments\n",
        "\n",
        "The following cells contain errors. Fix the errors so the code runs properly."
      ]
    },
    {
      "cell_type": "code",
      "metadata": {
        "id": "lrPkfGQK82gh"
      },
      "source": [
        "print \"Please enter a valid month\")"
      ],
      "execution_count": null,
      "outputs": []
    },
    {
      "cell_type": "code",
      "metadata": {
        "id": "Nxp91FGi85o3"
      },
      "source": [
        "prin(\"Good coding!\")"
      ],
      "execution_count": null,
      "outputs": []
    },
    {
      "cell_type": "code",
      "metadata": {
        "id": "TaEyo52x9Kzo"
      },
      "source": [
        "print(\"The library will open at 10.')"
      ],
      "execution_count": null,
      "outputs": []
    },
    {
      "cell_type": "code",
      "metadata": {
        "id": "ZP31rpMj9O2m"
      },
      "source": [
        "Print(\"Hello, World\")"
      ],
      "execution_count": null,
      "outputs": []
    },
    {
      "cell_type": "markdown",
      "metadata": {
        "id": "77vTocbmvBeV"
      },
      "source": [
        "## Printing an Address\n",
        "\n",
        "You received some code for printing an address. Check the variables and print statements for errors and fix them so that the following will be displayed when the code is run:\n",
        "\n",
        "123 Main Street\n",
        "\n",
        "20A\n",
        "\n",
        "Pittsburgh\n",
        "\n",
        "PA\n",
        "\n",
        "15232"
      ]
    },
    {
      "cell_type": "code",
      "metadata": {
        "id": "YvboEo2d9pcV"
      },
      "source": [
        "Address Line 1 = \"123 Main Street\"\n",
        "Apt# = \"20A\"\n",
        "City = Pittburgh\n",
        "state = \"PA\"\n",
        "5digitZIPCode = \"15232\"\n",
        "\n",
        "# Note: With each print statement, there should be a variable name within the ( )\n",
        "print(Address Line 1)\n",
        "print(\"Apt#\")\n",
        "print(City)\n",
        "print (state)\n",
        "print(5digitZIPCode)\n",
        "\n",
        "# Extra: Can you write a print statement that will format the last line of the address like: \"Pittsburgh, PA 15232\" using the above variables and \n",
        "# any other needed code?"
      ],
      "execution_count": null,
      "outputs": []
    },
    {
      "cell_type": "markdown",
      "metadata": {
        "id": "mkH6oj7vwko3"
      },
      "source": [
        "## Swapping Values\n",
        "\n",
        "Write a program to swap the values of two variables.\n",
        "\n",
        "Start by defining variables x and y.\n",
        "\n",
        "*   Assign each variable a number.\n",
        "* Then write code that exchanges their values: the value of x after your code runs must equal the value that y had before your code ran, and the value of y after your code runs must equal the value that x had before your code ran.\n",
        "* Print x and y at the beginning of the program and then again after the swapping."
      ]
    },
    {
      "cell_type": "code",
      "metadata": {
        "id": "ZNxF_zgn94Ov"
      },
      "source": [
        "# Put your code here"
      ],
      "execution_count": null,
      "outputs": []
    },
    {
      "cell_type": "markdown",
      "metadata": {
        "id": "MsNVopnRwk3A"
      },
      "source": [
        "## Tab Calculation - Part 1\n",
        "\n",
        "This program should ask the user to enter the cost of an appetizer, entree, drinks, and dessert for two people. The parts of the meal and the tax (8%) should be totaled. The amount of any gift certificate should be applied and a display of all totals should be presented. Some structure-related comments are included. Number of blank lines does not indicate length of the needed code.\n",
        "\n",
        "Using what you have learned about this week, complete the following three sections of the program\n",
        "\n",
        "* display purpose of program to user\n",
        "* ask for first person's prices for parts of meal\n",
        "* ask for second person's prices for parts of meal\n",
        "\n",
        "There's more information you need to actually finish the program, which we'll cover in next week's lesson about data types.\n"
      ]
    },
    {
      "cell_type": "code",
      "metadata": {
        "id": "OnHR-GeR-O41"
      },
      "source": [
        "# display purpose of program to user\n",
        "print(\"Enter the cost of an appetizer, an entree, drinks, and dessert for two people to calculate tax\")\n",
        "\n",
        "# ask for first person's prices for parts of meal\n",
        "appCost1 = input(\"Please input the cost of the appetizer\")\n",
        "entreeCost1 = input(\"Please input the cost of the entree\")\n",
        "drinksCost1 = input(\"Please input the cost of drinks\")\n",
        "dessertCost1 = input(\"Please input the cost of dessert\")\n",
        "\n",
        "# ask for second person's prices for parts of meal\n",
        "appCost2 = input(\"Please input the cost of the appetizer\")\n",
        "entreeCost2 = input(\"Please input the cost of the entree\")\n",
        "drinksCost2 = input(\"Please input the cost of drinks\")\n",
        "dessertCost2 = input(\"Please input the cost of dessert\")\n",
        "\n",
        "# >>> stop here during week 1 <<<\n",
        "\n",
        "# total the entire cost of meal\n",
        "# try this section, but will have to wait for next week's information\n",
        "# on data types to successfully complete\n",
        "\n",
        "\n",
        "# calculate the tax\n",
        "\n",
        "\n",
        "# ask for and apply any gift certificate amount\n",
        "\n",
        "\n",
        "# present summary of bill for diners at table in an easy-to-read and complete manner\n",
        "\n"
      ],
      "execution_count": null,
      "outputs": []
    },
    {
      "cell_type": "markdown",
      "metadata": {
        "id": "5cAqJFOawlCs"
      },
      "source": [
        "## Post-Session Survey\n",
        "\n",
        "### Tell us what you think!\n",
        "\n",
        "<img src=\"https://images.unsplash.com/photo-1453738773917-9c3eff1db985?ixlib=rb-1.2.1&ixid=MnwxMjA3fDB8MHxwaG90by1wYWdlfHx8fGVufDB8fHx8&auto=format&fit=crop&w=1050&q=80\"></img>\n",
        "\n",
        "Photo by <a href=\"https://unsplash.com/photos/ASKeuOZqhYU?utm_source=unsplash&utm_medium=referral&utm_content=creditCopyText\">Jason Rosewell</a> on Unsplash.\n",
        "\n",
        "Please take a moment to complete a <a href=\"https://forms.office.com/Pages/ResponsePage.aspx?id=pdLeN0PDGki8KXpP9o9Wojf5c-m6e2tMoe00PPLM2J1UQjZDVzBMVkJVRkdFRzczMkwxME5OVlYzUS4u\">short survey</a> about this virtual session. Thank you!\n",
        "\n"
      ]
    },
    {
      "cell_type": "code",
      "metadata": {
        "id": "7xw1FpsV_ZSQ"
      },
      "source": [
        ""
      ],
      "execution_count": null,
      "outputs": []
    }
  ]
}
