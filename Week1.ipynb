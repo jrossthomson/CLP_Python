{
  "nbformat": 4,
  "nbformat_minor": 0,
  "metadata": {
    "colab": {
      "name": "Week1.ipynb",
      "provenance": [],
      "collapsed_sections": [
        "iPzY7sCr1vuT",
        "ztFfTo6Au-Nr",
        "ERxcLPMo4qTl",
        "J00ZTrR-4qjd",
        "OfBes4fEvBGW",
        "4A2HD0BovBSB",
        "77vTocbmvBeV",
        "mkH6oj7vwko3",
        "MsNVopnRwk3A",
        "5cAqJFOawlCs"
      ],
      "toc_visible": true
    },
    "kernelspec": {
      "name": "python3",
      "display_name": "Python 3"
    },
    "language_info": {
      "name": "python"
    }
  },
  "cells": [
    {
      "cell_type": "markdown",
      "metadata": {
        "id": "Y5DYnIogtV-f"
      },
      "source": [
        "# Week 1\n",
        "\n",
        "<table class=\"tfo-notebook-buttons\" align=\"left\">\n",
        "\n",
        "  <td>\n",
        "    <a target=\"_blank\" href=\"https://colab.research.google.com/github/jrossthomson/CLP_Python/blob/main/Week1.ipynb\"><img src=\"https://quantumai.google/site-assets/images/buttons/colab_logo_1x.png\" />Run in Google Colab</a>\n",
        "  </td>\n",
        "</table"
      ]
    },
    {
      "cell_type": "markdown",
      "metadata": {
        "id": "TkZRq5l0tuM8"
      },
      "source": [
        "## Week 1 - Overview\n",
        "\n",
        "Welcome to On-Ramp To Python!\n",
        "\n",
        "These sessions use a Flipped Classroom Model, where new ideas and work is done independently before class, then during class facilitators answer questions about that work and put those ideas into practice. If you struggle with an exercise, or something is hard to understand, that is OK! Do what you can and bring your questions to the meeting.\n",
        "\n",
        "During the first week you'll learn about variables and how to print things on the screen and to ask for information from a user. You should work through the material in the Week 1 section, up to where it tells you to stop, before the first virtual session.\n",
        "\n",
        "\n",
        "\n"
      ]
    },
    {
      "cell_type": "markdown",
      "metadata": {
        "id": "E9sDO2GutYkn"
      },
      "source": [
        "# About Colab\n",
        "The document you are reading is not a static web page, but an interactive environment called a **Colab notebook** that lets you write and execute code.\n",
        "\n",
        "For example, here is a **code cell** with a short Python script that computes a value, stores it in a variable, and prints the result:\n",
        "\n"
      ]
    },
    {
      "cell_type": "code",
      "metadata": {
        "id": "-Tf2BeOT4vXE",
        "executionInfo": {
          "status": "ok",
          "timestamp": 1625240711302,
          "user_tz": 240,
          "elapsed": 22,
          "user": {
            "displayName": "Abi Hunter",
            "photoUrl": "https://lh3.googleusercontent.com/a-/AOh14GifQvgGC00T43-JEV8zO7hxrjrY6pI98Nw67F6jDg=s64",
            "userId": "02034436901701605984"
          }
        },
        "outputId": "ce4895f5-8cdd-4eba-8003-3c20af1ba7b9"
      },
      "source": [
        "minutes_in_one_day = 60 * 24\n",
        "print(minutes_in_one_day)"
      ],
      "execution_count": null,
      "outputs": [
        {
          "output_type": "stream",
          "text": [
            "1440\n"
          ],
          "name": "stdout"
        }
      ]
    },
    {
      "cell_type": "markdown",
      "metadata": {
        "id": "QbU7L8O95HYH"
      },
      "source": [
        "To execute the code in the above cell, select it with a click and then either press the play button to the left of the code, or use the keyboard shortcut \"Command/Ctrl+Enter\". To edit the code, just click the cell and start editing.\n",
        "\n",
        "Variables that you define in one cell can later be used in other cells:"
      ]
    },
    {
      "cell_type": "code",
      "metadata": {
        "id": "Dlf5C9135MTF",
        "executionInfo": {
          "status": "ok",
          "timestamp": 1625240725056,
          "user_tz": 240,
          "elapsed": 130,
          "user": {
            "displayName": "Abi Hunter",
            "photoUrl": "https://lh3.googleusercontent.com/a-/AOh14GifQvgGC00T43-JEV8zO7hxrjrY6pI98Nw67F6jDg=s64",
            "userId": "02034436901701605984"
          }
        },
        "outputId": "41bafc0d-53e1-4f8b-992e-decd7bff0687"
      },
      "source": [
        "minutes_in_one_week = minutes_in_one_day * 7\n",
        "print(minutes_in_one_week)"
      ],
      "execution_count": null,
      "outputs": [
        {
          "output_type": "stream",
          "text": [
            "10080\n"
          ],
          "name": "stdout"
        }
      ]
    },
    {
      "cell_type": "markdown",
      "metadata": {
        "id": "2ZsRcjvL7f-Z"
      },
      "source": [
        "If a lot of this doesn't make sense, that's ok! We'll cover it later. "
      ]
    },
    {
      "cell_type": "markdown",
      "metadata": {
        "id": "V952DT4FtZts"
      },
      "source": [
        "# Welcome to Coding!"
      ]
    },
    {
      "cell_type": "markdown",
      "metadata": {
        "id": "0MwaVXvMuTND"
      },
      "source": [
        "## Introduction to On-Ramp\n",
        "\n",
        "This website teaches computer programming. With programming you can automate computer tasks, make art and music, interpret and analyze survey results, build tools for other people, create custom websites and apps, write games, examine genetic data, connect people with each other, and the list goes on and on.\n",
        "\n"
      ]
    },
    {
      "cell_type": "markdown",
      "metadata": {
        "id": "am275QmVuTZm"
      },
      "source": [
        "## What is a computer program?\n",
        "\n",
        "\n",
        "<p>A computer program is a series of instructions, written in words, numbers and symbols. Just like any spoken sentence is in a human language like English or French, every computer program is in a programming language. A few popular programming languages are Python (what we will teach here), C++, JavaScript and PHP (there are <a target=\"_blank\" href=\"http://helloworldcollection.de\">hundreds more</a>). We have chosen to teach Python since it is both simple enough for beginners and powerful enough to be used by <a target=\"_blank\" href=\"https://thenewstack.io/instagram-makes-smooth-move-python-3/\">modern companies</a>. All programming languages use the same foundational concepts. After learning any one language, you can pivot to a different one should you wish to do so.</p>\n",
        "<p>Computers need to be given instructions because, in general, computer are quite dumb. Computers only do what we tell them to do through our code.  According to Mark Guzidial, an expert in teaching computer science, computers can only do four things: <a target=\"_blank\" href=\"https://runestone.academy/runestone/static/StudentCSP/CSPTuring/abilities.html\">[1]</a></p>\n",
        "\n",
        "* Computers can remember names for values...\n",
        "* Computers can repeat steps.\n",
        "* Computers can make decisions.\n",
        "* Computers can take data apart.\n",
        "\n",
        "<p>In On-Ramp To Python you will learn how to instruct the computer to do these four things using the Python programming language.</p>\n",
        "<p>[1] <a target=\"_blank\" href=\"https://runestone.academy/runestone/static/StudentCSP/CSPTuring/abilities.html\">URL reference (accessed 7/13/18)</a></p>"
      ]
    },
    {
      "cell_type": "markdown",
      "metadata": {
        "id": "g2145ALruTp5"
      },
      "source": [
        "## Hello, World!\n",
        "\n",
        "<p>Here is the first line of Python code in our lessons.</p>\n",
        "<iframe src=\"//trinket.io/embed/python/01e0960669?toggleCode=true&amp;runOption=run\" width=\"100%\" height=\"200\" frameborder=\"0\" marginwidth=\"0\" marginheight=\"0\" allowfullscreen=\"\" class=\"embedded-content\"></iframe>"
      ]
    },
    {
      "cell_type": "code",
      "metadata": {
        "id": "mrnWWbplwFfa"
      },
      "source": [
        "print(\"Hello, World!\")"
      ],
      "execution_count": null,
      "outputs": []
    },
    {
      "cell_type": "markdown",
      "metadata": {
        "id": "fZBT5ZJNwFud"
      },
      "source": [
        "<p>.</p>\n",
        "<p>When you run a program (by clicking on the <strong>triangle play button</strong>... try it out!) you also get to see the output. The example program above only has one command, print(\"Hello, World!\") and it created one line of output.</p>\n",
        "<p>Here is an analysis of this first program (click on the <strong>pencil icon</strong> to view the code again):</p>\n",
        "<ul>\n",
        "<li><p><code>print</code> is the name of a Python <strong>function</strong>, which sends messages to output.</p>\n",
        "</li><li><p>The parentheses <code>()</code> after the print command are used to contain what you want the<code>print</code> function to actually print.  We say that that the <code>print</code> function has a <strong>parameter</strong> which it then prints to the screen.</p>\n",
        "</li><li><p>The quote marks <code>\" \"</code> are used as a container for the text string <code>Hello, World!</code> inside. Without quotes, Python would think that Hello was meant to be a command. This would be cause an error since no such command exists.</p>\n",
        "</li></ul>\n",
        "<p>You will learn more about the different pieces of a Python program as you progress through these lessons.</p>"
      ]
    },
    {
      "cell_type": "markdown",
      "metadata": {
        "id": "Nx302sB8uT4G"
      },
      "source": [
        "## Break Things... Learn Things!\n",
        "\n",
        "<p>Click on the run button now to see what happens when we leave out the quotes.</p>"
      ]
    },
    {
      "cell_type": "code",
      "metadata": {
        "id": "lK8yFUaIw-wR"
      },
      "source": [
        "print(Hello, World!)"
      ],
      "execution_count": null,
      "outputs": []
    },
    {
      "cell_type": "markdown",
      "metadata": {
        "id": "bwrNu5C2w_QH"
      },
      "source": [
        "<p>Here, the program crashed: this means something went wrong, causing an error and forcing the program to stop.</p>\n",
        "<p>We can see from the red bar at the bottom of the code that we have a Syntax Error. Often times this means that we made a typo or forgot to include an important part of the command.</p>\n",
        "<p><strong>Click on the code cell above and fix the code so that it runs correctly.</strong></p>"
      ]
    },
    {
      "cell_type": "markdown",
      "metadata": {
        "id": "L8Q1FSbzuUDa"
      },
      "source": [
        "## Your First Line of Code (exercise)\n",
        "\n",
        "<p>Your first exercise is given below. It asks you to write a program similar to the previous program. Type your program into the box, and when you want to test whether your program correctly performs the task, press the Run program button. If you don't get it correct on the first try, edit the program and try running it again. Submit your exercise when you are done.</p>\n",
        "<p><strong>Goal</strong>: Write one line of code that prints <code>Hello, Pittsburgh!</code> on the screen.</p>"
      ]
    },
    {
      "cell_type": "code",
      "metadata": {
        "id": "gsigOcdQxgRY"
      },
      "source": [
        "# write the code to print Hello, Pittsburgh! here"
      ],
      "execution_count": null,
      "outputs": []
    },
    {
      "cell_type": "markdown",
      "metadata": {
        "id": "LZDAjDtguUfS"
      },
      "source": [
        "## This or That - Part 1 (exercise)\n",
        "\n",
        "<p>In this exercise, you will begin writing the code for a 'This or That' quiz. Not sure what a This or That quiz is?  According to Hobby Lark web page author,  <a target=\"_blank\" href=\"https://hobbylark.com/party-games/Funny-This-or-That-Questions\">Tatiana</a>,</p>\n",
        "<blockquote>\n",
        "<p>\"This game poses questions involving two choices in which\n",
        "the player must answer with one of the choices, even if\n",
        "neither of them really appeal to the person. \"This or That\"\n",
        "questions can be funny and outrageous, serious, or mundane.''</p>\n",
        "</blockquote>\n",
        "<p>One of her 'This or That' suggestions is \"Book or Kindle?\" Look over <a target=\"_blank\" href=\"https://hobbylark.com/party-games/Funny-This-or-That-Questions\">this list</a> of suggested 'This or That' questions and select five of them (or make up your own!).  Now write the code to print these five questions on the screen.</p>"
      ]
    },
    {
      "cell_type": "code",
      "metadata": {
        "id": "14Gt6s8Ex2fT"
      },
      "source": [
        "# write the code here to print five different 'This or That' questions on the screen."
      ],
      "execution_count": null,
      "outputs": []
    },
    {
      "cell_type": "markdown",
      "metadata": {
        "id": "vgEm4ynbtc_h"
      },
      "source": [
        "# Getting Started with Variables"
      ]
    },
    {
      "cell_type": "markdown",
      "metadata": {
        "id": "PDMveGULufyJ"
      },
      "source": [
        "## Variables Are A Way Of Naming Information\n",
        "\n",
        "<p>Earlier we talked about the four things computers can do.  One was 'remember names for values'. This is accomplished using <strong>variables</strong>.</p>\n",
        "<p>Variables act as \"storage locations\" for data in a program. They are a way of naming information for later usage. Each variable has a name; an example variable name we will use is <code>myLuckyNumber</code>. To store information in a variable, we write a command using <strong>an equals sign</strong> in the following way:</p>\n",
        "<p><code>«the variable name» = «the value you want to store»</code></p>\n",
        "<p>(We use «double angle brackets» in our lessons, like above, to indicate special parts of expressions.) For example, the Python line</p>\n",
        "<p><code>myLuckyNumber = 13</code></p>\n",
        "<p>stores the value 13 in the variable <code>myLuckyNumber</code>. Then, anywhere you write the variable name <code>myLuckyNumber</code> again, Python retrieves the stored value. </p>\n",
        "<p>Below, there is a short example of using variables. It has more than one line of instructions: Python executes the first line, then the second line, and so forth until it reaches the last line. Press the Run program button to see what it does.</p>"
      ]
    },
    {
      "cell_type": "code",
      "metadata": {
        "id": "hSh9wNsHyHAs"
      },
      "source": [
        "myLuckyNumber = 13\n",
        "print(myLuckyNumber + 1)\n",
        "print(myLuckyNumber)\n",
        "myLuckyNumber = 5 + 2\n",
        "print(myLuckyNumber)"
      ],
      "execution_count": null,
      "outputs": []
    },
    {
      "cell_type": "markdown",
      "metadata": {
        "id": "fU819VdcyJaA"
      },
      "source": [
        "<p>Look at the 5 lines of the program in order, and how they correspond to the output. </p>\n",
        "<p>As you can see, <code>myLuckyNumber</code> keeps its value of <code>13</code> for the first two print statements, then its value is changed to <code>7</code>. We also introduced the <strong>plus operator (+)</strong> above, which adds two numbers together. Similarly, there are <strong>operators for subtraction (-), multiplication (*), and division (/)</strong>. We'll return to these in a later lesson.</p>\n",
        "<p>.</p>\n",
        "<p><strong>Naming Variables</strong></p>\n",
        "<p>There are just a couple of rules to follow when naming your variables.</p>\n",
        "<ul>\n",
        "<li>Variable names can contain letters, numbers, and the underscore.</li><li>Variable names <strong>cannot contain spaces</strong>.</li><li>Variable names <strong>cannot start with a number</strong>.</li><li><strong>Case matters</strong>—for instance, <code>temp</code> and <code>Temp</code> are different storage locations.</li></ul>\n",
        "<p>It helps make your program more understandable to another person if you <strong>choose names that are descriptive</strong>, but not so long that they clutter up your program. For example <code>myLuckyNumber</code> is more descriptive than <code>mln</code>.</p>"
      ]
    },
    {
      "cell_type": "markdown",
      "metadata": {
        "id": "2TXuRRJMugAl"
      },
      "source": [
        "## Tracing the Value of Variables with Paper\n",
        "\n",
        "<p>You can simulate the memory storage of a computer with paper and pencil, by keeping track of the values in a table. Here is an example; remember that <code>*</code> means multiplication in Python.</p>\n",
        "<p><strong>Goal:</strong> Determine the final values of all variables at the end of the program.</p>\n",
        "<pre><code>first = 2\n",
        "second = 3\n",
        "third = first * second\n",
        "second = third - first\n",
        "first = first + second + third\n",
        "third = second * first\n",
        "</code></pre><p><strong>Idea</strong>: We use a table to keep track of the values as they change.</p>\n",
        "<table>\n",
        "<thead>\n",
        "<tr>\n",
        "<th>Statement</th>\n",
        "<th style=\"text-align:center\">first</th>\n",
        "<th style=\"text-align:center\">second</th>\n",
        "<th style=\"text-align:center\">third</th>\n",
        "</tr>\n",
        "</thead>\n",
        "<tbody>\n",
        "<tr>\n",
        "<td>first = 2</td>\n",
        "<td style=\"text-align:center\">2</td>\n",
        "<td style=\"text-align:center\"></td>\n",
        "<td style=\"text-align:center\"></td>\n",
        "</tr>\n",
        "<tr>\n",
        "<td>second = 3</td>\n",
        "<td style=\"text-align:center\">2</td>\n",
        "<td style=\"text-align:center\">3</td>\n",
        "<td style=\"text-align:center\"></td>\n",
        "</tr>\n",
        "<tr>\n",
        "<td>third = first * second</td>\n",
        "<td style=\"text-align:center\">2</td>\n",
        "<td style=\"text-align:center\">3</td>\n",
        "<td style=\"text-align:center\">6</td>\n",
        "</tr>\n",
        "<tr>\n",
        "<td>second = third - first</td>\n",
        "<td style=\"text-align:center\">2</td>\n",
        "<td style=\"text-align:center\"><span class=\"gray\"><del>3</del></span> 4</td>\n",
        "<td style=\"text-align:center\">6</td>\n",
        "</tr>\n",
        "<tr>\n",
        "<td>first = first + second + third</td>\n",
        "<td style=\"text-align:center\"><span class=\"gray\"><del>2</del></span> 12</td>\n",
        "<td style=\"text-align:center\">4</td>\n",
        "<td style=\"text-align:center\">6</td>\n",
        "</tr>\n",
        "<tr>\n",
        "<td>third = second * first</td>\n",
        "<td style=\"text-align:center\">12</td>\n",
        "<td style=\"text-align:center\">4</td>\n",
        "<td style=\"text-align:center\"><span class=\"gray\"><del>6</del></span> 48</td>\n",
        "</tr>\n",
        "</tbody>\n",
        "</table>\n",
        "<p>At the end of the program, the value of <code>first</code> is 12, the value of <code>second</code> is 4, and the value of <code>third</code> is 48. Drawing a table like this on pencil and paper is always a good idea and helpful when understanding or fixing code.</p>"
      ]
    },
    {
      "cell_type": "markdown",
      "metadata": {
        "id": "L5GjSPHKugLp"
      },
      "source": [
        "## Two Common Errors\n",
        "\n",
        "<p><strong>What is X?</strong></p>\n",
        "\n"
      ]
    },
    {
      "cell_type": "code",
      "metadata": {
        "id": "m1AvDW5py8ZK"
      },
      "source": [
        "x = 10\n",
        "x = x + x\n",
        "x = x - 5\n",
        "print(x)"
      ],
      "execution_count": null,
      "outputs": []
    },
    {
      "cell_type": "markdown",
      "metadata": {
        "id": "e9e6lbZqy_tN"
      },
      "source": [
        "<p>.</p>\n",
        "<p><strong> Errors </strong></p>\n",
        "<p>If you ask Python about a variable that has not been defined, you get an error.</p>\n"
      ]
    },
    {
      "cell_type": "code",
      "metadata": {
        "id": "TnPW3cWtzB2C"
      },
      "source": [
        "print(trouble)"
      ],
      "execution_count": null,
      "outputs": []
    },
    {
      "cell_type": "markdown",
      "metadata": {
        "id": "ykM6xX6tzDfy"
      },
      "source": [
        ".</p>\n",
        "<p>As you can see, we get an error message saying NameError: name 'trouble' is not defined. Python is expecting a string in quotes or a variable that has already been created. Here we have neither, so the error is shown.</p>\n",
        "<p>Sometimes you can get errors like this from simple typos: if you define a variable <code>address=32</code>, then try to <code>print(adress)</code>, the same type of error occurs. (Typo with only one 'd' in second variable name.)</p>\n",
        "<p>Another error has to do with accidentally swapping the sides of an = statement.</p>\n"
      ]
    },
    {
      "cell_type": "code",
      "metadata": {
        "id": "x1A_g1WuzQhB"
      },
      "source": [
        "x = 4\n",
        "4 = x"
      ],
      "execution_count": null,
      "outputs": []
    },
    {
      "cell_type": "markdown",
      "metadata": {
        "id": "zULJrLnGzI9T"
      },
      "source": [
        ".</p>\n",
        "<p>The first line is fine, but the second line causes an error: Python thinks the second line 4 = x is trying to change the value of 4, but you are only allowed to change the values of variables, and 4 is not a variable. While A = B and B = A are the same in mathematics, they are different in programming.</p>\n",
        "<p>.</p>"
      ]
    },
    {
      "cell_type": "markdown",
      "metadata": {
        "id": "a_YltJ2zugXV"
      },
      "source": [
        "##  Heads, Shoulders, Knees and Toes (exercise)\n"
      ]
    },
    {
      "cell_type": "markdown",
      "metadata": {
        "id": "8aZEHUQ817Wr"
      },
      "source": [
        "<p>Write a program to count heads, shoulders, knees, and toes at a party. </p>\n",
        "<ul>\n",
        "<li>First define a variable that will hold the total number of people at the party. </li><li>Then define four variables, one called heads, one called shoulders, one called knees, and one called toes, equal to the number of heads, shoulders, knees, and toes in total at the party. </li><li>Print labels along with the calculated values. </li></ul>\n",
        "<p><strong>(Expand the Hint section if you need help.)</strong></p>"
      ]
    },
    {
      "cell_type": "code",
      "metadata": {
        "id": "iT_RozEU2NVG"
      },
      "source": [
        "# write your solution here"
      ],
      "execution_count": null,
      "outputs": []
    },
    {
      "cell_type": "markdown",
      "metadata": {
        "id": "iPzY7sCr1vuT"
      },
      "source": [
        "### Hint"
      ]
    },
    {
      "cell_type": "markdown",
      "metadata": {
        "id": "F3VQCWiF2GCx"
      },
      "source": [
        "One line of your code might be\n",
        "\n",
        "`heads = 1 * people`\n",
        "\n",
        "since the number of heads equals the number of people."
      ]
    },
    {
      "cell_type": "markdown",
      "metadata": {
        "id": "KZGVKu1qugjx"
      },
      "source": [
        "##  This or That - Part 2 (exercise)"
      ]
    },
    {
      "cell_type": "markdown",
      "metadata": {
        "id": "0VsWCdDM2kN0"
      },
      "source": [
        "<p>Up to now, we have only been assigning numbers to variable. We can also assign words to variables. Words are called <strong>strings</strong> in Python. We tell Python that we are using a string by putting the right side of the assignment in <strong>quotes</strong>, like this:</p>\n",
        "<pre><code>readingPreference = \"book\"\n",
        "</code></pre><p>We will look at strings in more detail in a later On-Ramp session.</p>\n",
        "<p>In this coding trinket, write five 'this or that' variables related to the questions that you selected and assign a string answer to each on (see the example variable assignment above). Then print the values of the variables.</p>\n"
      ]
    },
    {
      "cell_type": "code",
      "metadata": {
        "id": "qUPkvX_92wuw"
      },
      "source": [
        "# write your solution here"
      ],
      "execution_count": null,
      "outputs": []
    },
    {
      "cell_type": "markdown",
      "metadata": {
        "id": "YE2FtZrrthKN"
      },
      "source": [
        "# Comments, Functions, Input\n"
      ]
    },
    {
      "cell_type": "markdown",
      "metadata": {
        "id": "ztFfTo6Au-Nr"
      },
      "source": [
        "## Comments\n",
        "\n",
        "<p>A <strong>comment</strong> is a message to someone reading your code. This could be someone else, or yourself in the future. Comments are often used to <strong>describe what a section of code does or how it works</strong>, especially with tricky sections of code. Comments are ignored by the computer and have no effect on your program.</p>\n",
        "<p>Other common uses for comments include:</p>\n",
        "<ul>\n",
        "<li>leaving \"to do\" notes, when you write a longer program;</li><li>temporarily disabling (\"commenting out\") a line of a program without totally deleting it, so that it is easier to put back in later.</li></ul>\n",
        "<p><strong>Single-line comments</strong></p>\n",
        "<p>For a single-line comment, use the <code>#</code> character.</p>\n",
        "<pre><code># here is how you can collect two words from a user\n",
        "word1, word2 = input(\"Enter two words here: \").split()\n",
        "</code></pre><p>.</p>\n",
        "<p>You can also put comments at the end of a line:</p>\n",
        "<pre><code>if (favoriteNumber %2 == 0):   # is favoriteNumber even?\n",
        "    print(\"even!\")\n",
        "</code></pre><p>.</p>\n",
        "<p><strong>Multi-line comments</strong></p>\n",
        "<p>For comments that span several lines, you can use triple quotes (either 3 <strong>\"</strong> or 3 <strong>'</strong>) at the beginning and the end of the commented lines.</p>\n",
        "<pre><code>\"\"\" Program name: Hello world\n",
        "    Author: Brian Heinold\n",
        "    Date: 1/9/11 \"\"\"\n",
        "\n",
        "print('Hello world')\n",
        "</code></pre><p>.</p>\n",
        "<p>One nice use for the triple quotes is to <strong>comment out parts of your code</strong>. Often you will want to modify your program but don't want to delete your old code in case your changes don't work. You could comment out the old code so that it is still there if you need it, and it will be ignored when your new program is run. Here is a simple example:</p>\n",
        "<pre><code>\"\"\"\n",
        "print('This line and the next are inside a comment.')\n",
        "print('These lines will not get executed.')\n",
        "\"\"\"\n",
        "print('This line is not in a comment and it will be executed.')\n",
        "</code></pre>"
      ]
    },
    {
      "cell_type": "markdown",
      "metadata": {
        "id": "Hkq5wu9Guw00"
      },
      "source": [
        "## Get To Know Functions"
      ]
    },
    {
      "cell_type": "markdown",
      "metadata": {
        "id": "WXTvsO323L-Q"
      },
      "source": [
        "<p>We have seen one function already, <code>print()</code>, which outputs a message. </p>\n",
        "<p>To use a function you always write <strong>its name, followed by parentheses<code>()</code>. Often times, some value or variable will be inside the parentheses <code>()</code></strong>. These are known as \"arguments\". Argument basically means an input to the function. Then, the function does some action depending on the arguments. </p>\n",
        "<p>When there are multiple arguments to a function, you separate them with commas. For example, in Python 3.x you can give multiple arguments to <code>print</code>; it will print all of them in order, with spaces separating them. We demonstrate in the example below. </p>\n"
      ]
    },
    {
      "cell_type": "code",
      "metadata": {
        "id": "NxnlvmaG3UdW"
      },
      "source": [
        "x = 3\n",
        "print(x, x +   x  , x * x)"
      ],
      "execution_count": null,
      "outputs": []
    },
    {
      "cell_type": "markdown",
      "metadata": {
        "id": "7DRKR2lB3MLw"
      },
      "source": [
        "\n",
        "<p><strong>An Aside on Spaces</strong></p>\n",
        "<p>The extra spaces in the sample program above had no effect on the output.\n",
        "<strong>Spaces matter at the beginning of lines, but not elsewhere.</strong> For example, the code below will not work.</p>\n",
        "<pre><code>temp = int(input('Enter a temperature in Celsius: '))\n",
        "  print('In Fahrenheit, that is', 9/5*temp+32)\n",
        "</code></pre><p>Python uses indentation of lines for things we'll learn about soon. On the other hand, spaces in most other places don't matter. For instance, the following lines have the same effect:</p>\n",
        "<pre><code>print('Hello world!')\n",
        "print ('Hello world!')\n",
        "print( 'Hello world!' )\n",
        "</code></pre>\n",
        "<p>A function may also give back a value (like an output). For example the <strong>function <code>max()</code> (short for maximum) gives back the largest out of all of its arguments</strong>, which must be numbers.</p>\n",
        "<p>Try to predict the output of the following program, before you run it.</p>\n"
      ]
    },
    {
      "cell_type": "code",
      "metadata": {
        "id": "o-oqqi4T3USc"
      },
      "source": [
        "print(max(42, 17))\n",
        "print(max(128,281,812))"
      ],
      "execution_count": null,
      "outputs": []
    },
    {
      "cell_type": "markdown",
      "metadata": {
        "id": "c8rq7Oya3MYE"
      },
      "source": [
        "<p><strong>The name 'return value' means the value that a function gives back.</strong> For example with <code>max(42, 17)</code> we say that \"the function <code>max</code> returned the value <code>42</code>.\"</p>\n",
        "<p>The <code>max</code> function has a friend which behaves similarly: <strong>the <code>min</code> function returns the minimum (smallest) of its arguments</strong>.</p>\n",
        "<p>Try to predict the output of the following program, before you run it.</p>\n"
      ]
    },
    {
      "cell_type": "code",
      "metadata": {
        "id": "DY9w--tz3Q8I"
      },
      "source": [
        "x = 13\n",
        "y = 7\n",
        "a = max(x+y, x*2)\n",
        "b = min(x, y)\n",
        "print(a,b)"
      ],
      "execution_count": null,
      "outputs": []
    },
    {
      "cell_type": "markdown",
      "metadata": {
        "id": "J6uLYNha3MjP"
      },
      "source": [
        "<p>.</p>\n",
        "<p>Functions can be combined to create more complicated expressions.</p>\n",
        "<p>Try to predict the output of the following program, before you run it. Click on the hint.txt tab, if needed.</p>"
      ]
    },
    {
      "cell_type": "code",
      "metadata": {
        "id": "CeSwUTOw3Oqc"
      },
      "source": [
        "x = min(max(13, 7), 9)\n",
        "print(x)"
      ],
      "execution_count": null,
      "outputs": []
    },
    {
      "cell_type": "markdown",
      "metadata": {
        "id": "ZfkgyUwfuxBI"
      },
      "source": [
        "## Understanding Errors"
      ]
    },
    {
      "cell_type": "markdown",
      "metadata": {
        "id": "bm8W6QPU3q6r"
      },
      "source": [
        "<p>If you call a function with not enough arguments (inputs) or too many arguments, you get an error. For example, max requires at least one input:</p>\n"
      ]
    },
    {
      "cell_type": "code",
      "metadata": {
        "id": "m6Kj777-3svq"
      },
      "source": [
        "max()"
      ],
      "execution_count": null,
      "outputs": []
    },
    {
      "cell_type": "markdown",
      "metadata": {
        "id": "wkGANZdy3rKS"
      },
      "source": [
        "<p>It's very important to carefully read the errors that you get back, when your code doesn't work. Python will usually give you helpful feedback on what went wrong. However, sometimes you need to look around a little bit to diagnose the problem — here's an example.</p>\n"
      ]
    },
    {
      "cell_type": "code",
      "metadata": {
        "id": "0LCWfuzG3tD2"
      },
      "source": [
        "smaller = min(14, 99\n",
        "bigger = max(3, 4)"
      ],
      "execution_count": null,
      "outputs": []
    },
    {
      "cell_type": "markdown",
      "metadata": {
        "id": "rmz5beGI3sfp"
      },
      "source": [
        "<p>Python says there is a syntax error, which means it can't understand what you're trying to do:</p>\n",
        "<p><code>SyntaxError: bad input on line 2 in main.py</code></p>\n",
        "<p> However, the line <code>bigger = max(3, 4)</code> is actually fine. The problem actually spilled over from the previous line: we forgot to add the closing parenthesis <code>)</code> after <code>smaller = min(14, 99</code> and Python started looking at the next line for the <code>)</code>. So, check the lines before and after what Python suggests, if you are stuck debugging your programs.</p>\n"
      ]
    },
    {
      "cell_type": "markdown",
      "metadata": {
        "id": "rQjuDq2YuxMT"
      },
      "source": [
        "## Input"
      ]
    },
    {
      "cell_type": "markdown",
      "metadata": {
        "id": "YAyjEc_l4C0R"
      },
      "source": [
        "<p><code>input()</code> is another python function  (like <code>min()</code>  and <code>max()</code>). <strong>The <code>input()</code> function is used to present a text prompt to a user and to obtain a value from that user</strong>. The text prompt is an argument to the input function. Here is an example of how input is used:</p>\n"
      ]
    },
    {
      "cell_type": "code",
      "metadata": {
        "id": "hywZySh64DFJ"
      },
      "source": [
        "firstName = input(\"What is your first name? \")\n",
        "print(\"Hello, \" + firstName + \".\")"
      ],
      "execution_count": null,
      "outputs": []
    },
    {
      "cell_type": "markdown",
      "metadata": {
        "id": "HJrLC2LM4DS9"
      },
      "source": [
        "<p>In this example you can see that we start with a variable name <code>firstName</code> and using the <code>=</code> symbol we assign the variable the value of whatever is typed in by the user following the prompt \"What is your first name? \"</p>\n",
        "<p>The basic structure is</p>\n",
        "<pre><code>&lt;&lt; the variable name &gt;&gt; = input(&lt;&lt; the message to user &gt;&gt;)\n",
        "</code></pre><p>.</p>\n",
        "<p>After we obtain the first name of the user, we greet the user using a print statement.  And here is something cool... in Python, you can add text (called 'strings' in Python) together using the <code>+</code> symbol.  So we added 'Hello, ' and the firstName together.  Then we added on a <code>.</code> at the end (because remember computers are dumb and have to be told everything!).  </p>\n"
      ]
    },
    {
      "cell_type": "markdown",
      "metadata": {
        "id": "GJ2BaQmouxa3"
      },
      "source": [
        "## Using Min and Max - Part 1 (exercise)\n",
        "\n",
        "<p>This is a two-part exercise <strong>using the min and max functions</strong>. </p>\n",
        "<p>There are connections between the cities of Maxime and Miniac with several bridges. There is a separate limit on the amount of weight that can be transported across each bridge.</p>\n",
        "<p>.</p>\n",
        "<p><img src=\"https://cscircles.cemc.uwaterloo.ca/wp-content/lesson_files/img/2/one-road.png\" alt=\"the cities of Maxime and Miniac\"></p>\n",
        "<p>.</p>\n",
        "<p>In order to drive along the route, your truck needs to drive first over the bridge with weight limit a, then the one with weight limit b, then the one with weight limit c. Your truck will crash if you overload any of the three weight limits. </p>\n",
        "<p>Write a program that prints out the maximum weight that can be transported along this road. Write your code so that the variables <code>a</code>, <code>b</code>, and <code>c</code> contain the bridge weight limits.  The included comments can help guide your thinking on this problem.</p>\n"
      ]
    },
    {
      "cell_type": "code",
      "metadata": {
        "id": "qhyEf2ZS4abg"
      },
      "source": [
        "# example variable\n",
        "a = 1500\n",
        "\n",
        "# write the statements for the remaining two variables\n",
        "\n",
        "\n",
        "# the truck can't exceed the smallest weight limit\n",
        "# how can we have the computer determine which \n",
        "# bridge has the smallest, weight-limiting value?\n",
        "\n",
        "\n",
        "# now print the value that the computer identified"
      ],
      "execution_count": null,
      "outputs": []
    },
    {
      "cell_type": "markdown",
      "metadata": {
        "id": "kKH6VnoVuxmR"
      },
      "source": [
        "## Using Min and Max - Part 2 (exercise)\n",
        "\n",
        "<p>There is more to this story. There is also a second route consisting of two bridges, the first with weight limit d, and the second with weight limit e, as illustrated below.</p>\n",
        "<p> .</p>\n",
        "<p> <img src=\"https://cscircles.cemc.uwaterloo.ca/wp-content/lesson_files/img/2/two-roads.png\" alt=\"the cities of Maxime and Miniac\"></p>\n",
        "<p> <strong>Your truck can take either route</strong>. Write a program that prints out the maximum weight that can be transported between the two cities. Write your code so that the variables a, b, c, d, and e contain the bridge weight limits.</p>\n",
        "\n",
        "<p><strong>(Expand the Hint sections if you need help.)</strong></p>"
      ]
    },
    {
      "cell_type": "code",
      "metadata": {
        "id": "iaYnXVXD4iym"
      },
      "source": [
        "# example variable\n",
        "a = 1500\n",
        "\n",
        "# write the statements for the remaining four variables\n",
        "\n",
        "\n",
        "# Route 1\n",
        "# the truck can't exceed the smallest weight limit\n",
        "# how can we have the computer determine the smallest, \n",
        "# weight-limiting value on Route 1? \n",
        "\n",
        "\n",
        "# Route 2\n",
        "# the truck can't exceed the smallest weight limit\n",
        "# how can we have the computer determine the smallest, \n",
        "# weight-limiting value on Route 2? \n",
        "\n",
        "\n",
        "# Now, how can we have the computer determine which route will\n",
        "# allow the most weight?\n",
        "\n",
        "\n",
        "# now print the value that the computer identified"
      ],
      "execution_count": null,
      "outputs": []
    },
    {
      "cell_type": "markdown",
      "metadata": {
        "id": "ERxcLPMo4qTl"
      },
      "source": [
        "### Hint 1"
      ]
    },
    {
      "cell_type": "markdown",
      "metadata": {
        "id": "BEudiDkb4qTm"
      },
      "source": [
        "A correct solution for the previous 'One Road' exercise \n",
        "will give you part of the correct solution for this one.\n",
        "\n"
      ]
    },
    {
      "cell_type": "markdown",
      "metadata": {
        "id": "J00ZTrR-4qjd"
      },
      "source": [
        "### Hint 2"
      ]
    },
    {
      "cell_type": "markdown",
      "metadata": {
        "id": "Kvi12gvj4qje"
      },
      "source": [
        "Try computing the largest weight that can be sent along each of the paths.\n",
        "\n",
        "How can those two numbers be combined to determine the overall limit, \n",
        "if you have the freedom to choose either path?\n"
      ]
    },
    {
      "cell_type": "markdown",
      "metadata": {
        "id": "tlPLecb4uxxu"
      },
      "source": [
        "## This or That Quiz - Part 3 (exercise)\n",
        "\n",
        "Use your coding knowledge to ask a person five 'this or that' and then print out their answers."
      ]
    },
    {
      "cell_type": "code",
      "metadata": {
        "id": "3taS55mk43Nn"
      },
      "source": [
        "# write your solution here"
      ],
      "execution_count": null,
      "outputs": []
    },
    {
      "cell_type": "markdown",
      "metadata": {
        "id": "z32hncReuyEa"
      },
      "source": [
        "## Week 1 Wrap-Up\n",
        "\n",
        "<p>Congratulations on reaching the end of the material for Week 1!  You can do quite a bit with Python already!  You can print things on the screen, add comments to your code, ask a user for information, and use a couple of different <a target=\"_blank\" href=\"https://www.w3schools.com/python/python_ref_functions.asp\">built-in functions</a>.  And you learned about naming things using variables, which is one of the four superpowers of computers.  </p>\n",
        "<p><strong>Tools You Can Use Wrap-Up</strong></p>\n",
        "<p>The following functions are <a target=\"_blank\" href=\"https://www.w3schools.com/python/python_ref_functions.asp\">built-in functions</a> in Python.</p>\n",
        "<ul>\n",
        "<li><p><a target=\"_blank\" href=\"https://www.w3schools.com/python/ref_func_input.asp\">input()</a></p>\n",
        "</li><li><p><a target=\"_blank\" href=\"https://www.w3schools.com/python/ref_func_max.asp\">max()</a></p>\n",
        "</li><li><p><a target=\"_blank\" href=\"https://www.w3schools.com/python/ref_func_min.asp\">min()</a></p>\n",
        "</li><li><p><a target=\"_blank\" href=\"https://www.w3schools.com/python/ref_func_print.asp\">print()</a></p>\n",
        "</li></ul>\n",
        "\n",
        "<p>Also covered this week:</p>\n",
        "<ul>\n",
        "<li><p><a target=\"_blank\" href=\"https://www.quackit.com/python/tutorial/python_variables.cfm\">variables</a></p>\n",
        "</li><li><p>including comments with <code>#</code> and <code>\"\"\"</code> . . . <code>\"\"\"</code></p>\n",
        "</li></ul>\n",
        "<hr>\n",
        "\n",
        "<p>You can stop here. We'll be reviewing and using this week's material when we meet virtually.  See you then! </p>"
      ]
    },
    {
      "cell_type": "markdown",
      "metadata": {
        "id": "Y3pYnpostjSu"
      },
      "source": [
        "# Virtual Session Coding\n"
      ]
    },
    {
      "cell_type": "markdown",
      "metadata": {
        "id": "OfBes4fEvBGW"
      },
      "source": [
        "## Week 1 -Stop"
      ]
    },
    {
      "cell_type": "markdown",
      "metadata": {
        "id": "4A2HD0BovBSB"
      },
      "source": [
        "## Debugging print statments\n",
        "\n",
        "The following cells contain errors. Fix the errors so the code runs properly."
      ]
    },
    {
      "cell_type": "code",
      "metadata": {
        "id": "lrPkfGQK82gh"
      },
      "source": [
        "print \"Please enter a valid month\")"
      ],
      "execution_count": null,
      "outputs": []
    },
    {
      "cell_type": "code",
      "metadata": {
        "id": "Nxp91FGi85o3"
      },
      "source": [
        "prin(\"Good coding!\")"
      ],
      "execution_count": null,
      "outputs": []
    },
    {
      "cell_type": "code",
      "metadata": {
        "id": "TaEyo52x9Kzo"
      },
      "source": [
        "print(\"The library will open at 10.')"
      ],
      "execution_count": null,
      "outputs": []
    },
    {
      "cell_type": "code",
      "metadata": {
        "id": "ZP31rpMj9O2m"
      },
      "source": [
        "Print(\"Hello, World\")"
      ],
      "execution_count": null,
      "outputs": []
    },
    {
      "cell_type": "markdown",
      "metadata": {
        "id": "77vTocbmvBeV"
      },
      "source": [
        "## Printing an Address\n",
        "\n",
        "You received some code for printing an address. Check the variables and print statements for errors and fix them so that the following will be displayed when the code is run:\n",
        "\n",
        "123 Main Street\n",
        "\n",
        "20A\n",
        "\n",
        "Pittsburgh\n",
        "\n",
        "PA\n",
        "\n",
        "15232"
      ]
    },
    {
      "cell_type": "code",
      "metadata": {
        "id": "YvboEo2d9pcV"
      },
      "source": [
        "Address Line 1 = \"123 Main Street\"\n",
        "Apt# = \"20A\"\n",
        "City = Pittburgh\n",
        "state = \"PA\"\n",
        "5digitZIPCode = \"15232\"\n",
        "\n",
        "# Note: With each print statement, there should be a variable name within the ( )\n",
        "print(Address Line 1)\n",
        "print(\"Apt#\")\n",
        "print(City)\n",
        "print (state)\n",
        "print(5digitZIPCode)\n",
        "\n",
        "# Extra: Can you write a print statement that will format the last line of the address like: \"Pittsburgh, PA 15232\" using the above variables and \n",
        "# any other needed code?"
      ],
      "execution_count": null,
      "outputs": []
    },
    {
      "cell_type": "markdown",
      "metadata": {
        "id": "mkH6oj7vwko3"
      },
      "source": [
        "## Swapping Values\n",
        "\n",
        "Write a program to swap the values of two variables.\n",
        "\n",
        "Start by defining variables x and y.\n",
        "\n",
        "*   Assign each variable a number.\n",
        "* Then write code that exchanges their values: the value of x after your code runs must equal the value that y had before your code ran, and the value of y after your code runs must equal the value that x had before your code ran.\n",
        "* Print x and y at the beginning of the program and then again after the swapping."
      ]
    },
    {
      "cell_type": "code",
      "metadata": {
        "id": "ZNxF_zgn94Ov"
      },
      "source": [
        "# Put your code here"
      ],
      "execution_count": null,
      "outputs": []
    },
    {
      "cell_type": "markdown",
      "metadata": {
        "id": "MsNVopnRwk3A"
      },
      "source": [
        "## Tab Calculation - Part 1\n",
        "\n",
        "This program should ask the user to enter the cost of an appetizer, entree, drinks, and dessert for two people. The parts of the meal and the tax (8%) should be totaled. The amount of any gift certificate should be applied and a display of all totals should be presented. Some structure-related comments are included. Number of blank lines does not indicate length of the needed code.\n",
        "\n",
        "Using what you have learned about this week, complete the following three sections of the program\n",
        "\n",
        "* display purpose of program to user\n",
        "* ask for first person's prices for parts of meal\n",
        "* ask for second person's prices for parts of meal\n",
        "\n",
        "There's more information you need to actually finish the program, which we'll cover in next week's lesson about data types.\n"
      ]
    },
    {
      "cell_type": "code",
      "metadata": {
        "id": "OnHR-GeR-O41"
      },
      "source": [
        "# display purpose of program to user\n",
        "print(\"Enter the cost of an appetizer, an entree, drinks, and dessert for two people to calculate tax\")\n",
        "\n",
        "# ask for first person's prices for parts of meal\n",
        "appCost1 = input(\"Please input the cost of the appetizer\")\n",
        "entreeCost1 = input(\"Please input the cost of the entree\")\n",
        "drinksCost1 = input(\"Please input the cost of drinks\")\n",
        "dessertCost1 = input(\"Please input the cost of dessert\")\n",
        "\n",
        "# ask for second person's prices for parts of meal\n",
        "appCost2 = input(\"Please input the cost of the appetizer\")\n",
        "entreeCost2 = input(\"Please input the cost of the entree\")\n",
        "drinksCost2 = input(\"Please input the cost of drinks\")\n",
        "dessertCost2 = input(\"Please input the cost of dessert\")\n",
        "\n",
        "# >>> stop here during week 1 <<<\n",
        "\n",
        "# total the entire cost of meal\n",
        "# try this section, but will have to wait for next week's information\n",
        "# on data types to successfully complete\n",
        "\n",
        "\n",
        "# calculate the tax\n",
        "\n",
        "\n",
        "# ask for and apply any gift certificate amount\n",
        "\n",
        "\n",
        "# present summary of bill for diners at table in an easy-to-read and complete manner\n",
        "\n"
      ],
      "execution_count": null,
      "outputs": []
    },
    {
      "cell_type": "markdown",
      "metadata": {
        "id": "5cAqJFOawlCs"
      },
      "source": [
        "## Post-Session Survey\n",
        "\n",
        "### Tell us what you think!\n",
        "\n",
        "<img src=\"https://images.unsplash.com/photo-1453738773917-9c3eff1db985?ixlib=rb-1.2.1&ixid=MnwxMjA3fDB8MHxwaG90by1wYWdlfHx8fGVufDB8fHx8&auto=format&fit=crop&w=1050&q=80\"></img>\n",
        "\n",
        "Photo by <a href=\"https://unsplash.com/photos/ASKeuOZqhYU?utm_source=unsplash&utm_medium=referral&utm_content=creditCopyText\">Jason Rosewell</a> on Unsplash.\n",
        "\n",
        "Please take a moment to complete a <a href=\"https://forms.office.com/Pages/ResponsePage.aspx?id=pdLeN0PDGki8KXpP9o9Wojf5c-m6e2tMoe00PPLM2J1UQjZDVzBMVkJVRkdFRzczMkwxME5OVlYzUS4u\">short survey</a> about this virtual session. Thank you!\n",
        "\n"
      ]
    },
    {
      "cell_type": "code",
      "metadata": {
        "id": "7xw1FpsV_ZSQ"
      },
      "source": [
        ""
      ],
      "execution_count": null,
      "outputs": []
    }
  ]
}